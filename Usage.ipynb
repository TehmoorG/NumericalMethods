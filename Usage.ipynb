{
 "cells": [
  {
   "cell_type": "markdown",
   "metadata": {},
   "source": [
    "## Installing Required Packages\n",
    "\n",
    "To ensure all required packages are available for this notebook, we'll install them from the provided `requirements.txt` file.\n"
   ]
  },
  {
   "cell_type": "markdown",
   "metadata": {},
   "source": [
    "# Mathematical Functions Exploration\n",
    "\n",
    "In this notebook, we'll explore various mathematical functions and their applications. Before diving in, we'll ensure our computational environment is set up correctly."
   ]
  },
  {
   "cell_type": "markdown",
   "metadata": {},
   "source": [
    "## Creating a Virtual Environment\n",
    "\n",
    "If you'd like to keep the dependencies of this project isolated from your main Python environment, it's a good idea to create a virtual environment. We provide an `environments.yml` file which can be used with Conda to create this isolated environment. \n",
    "\n",
    "Follow these steps:\n",
    "\n",
    "1. If you haven't installed Conda, get it from [here](https://docs.conda.io/projects/conda/en/latest/user-guide/install/index.html).\n",
    "2. Navigate to the directory containing `environments.yml`.\n",
    "3. Create the environment by running the following command in your terminal or command prompt:"
   ]
  },
  {
   "cell_type": "code",
   "execution_count": null,
   "metadata": {
    "vscode": {
     "languageId": "shellscript"
    }
   },
   "outputs": [],
   "source": [
    "!conda env create -f environments.yml"
   ]
  },
  {
   "cell_type": "markdown",
   "metadata": {},
   "source": [
    "4. Once the environment is created, activate it:"
   ]
  },
  {
   "cell_type": "code",
   "execution_count": null,
   "metadata": {
    "vscode": {
     "languageId": "shellscript"
    }
   },
   "outputs": [],
   "source": [
    "!conda activate acse_env"
   ]
  },
  {
   "cell_type": "markdown",
   "metadata": {},
   "source": [
    "## Installing Required Packages\n",
    "\n",
    "To ensure all required packages are available for this notebook, we'll install them from the provided `requirements.txt` file."
   ]
  },
  {
   "cell_type": "code",
   "execution_count": null,
   "metadata": {
    "vscode": {
     "languageId": "shellscript"
    }
   },
   "outputs": [],
   "source": [
    "!pip install -r requirements.txt"
   ]
  },
  {
   "cell_type": "markdown",
   "metadata": {},
   "source": [
    "Once the installations are complete, we're ready to proceed with the exploration of the mathematical functions."
   ]
  },
  {
   "cell_type": "markdown",
   "metadata": {},
   "source": [
    "## Taylor.py"
   ]
  },
  {
   "cell_type": "markdown",
   "metadata": {},
   "source": [
    "### Function: `exp`\n",
    "\n",
    "\n",
    "The function `exp` approximates the exponential function \\(e^x\\) using a Taylor series expansion. This method represents \\(e^x\\) as an infinite sum of polynomial terms. By truncating the series at `N` terms, we get an approximation. The function can handle both individual numbers and arrays as input.\n"
   ]
  },
  {
   "cell_type": "code",
   "execution_count": 1,
   "metadata": {},
   "outputs": [
    {
     "name": "stdout",
     "output_type": "stream",
     "text": [
      "Approximation for e^1: 2.7182818284590455\n",
      "Approximation for e^2 with 10 terms: 7.388994708994708\n",
      "Approximations for [0, 1]: [1.         2.71828183]\n"
     ]
    }
   ],
   "source": [
    "import numpy as np\n",
    "from acsefunctions.taylor import exp\n",
    "\n",
    "# Single value approximation for e^1\n",
    "result_single = exp(1)\n",
    "print(f\"Approximation for e^1: {result_single}\")\n",
    "\n",
    "# Approximation for e^2 using the first 10 terms of the Taylor series\n",
    "result_limited_terms = exp(2, N=10)\n",
    "print(f\"Approximation for e^2 with 10 terms: {result_limited_terms}\")\n",
    "\n",
    "# Approximation for an array of values [0, 1]\n",
    "result_array = exp(np.array([0, 1]))\n",
    "print(f\"Approximations for [0, 1]: {result_array}\")"
   ]
  },
  {
   "cell_type": "markdown",
   "metadata": {},
   "source": [
    "### Function: `sin`\n",
    "\n",
    "#### Brief Explanation:\n",
    "\n",
    "The `sin` function approximates the sine function `sin(x)` using a Taylor series expansion around the point 0. \n",
    "\n",
    "Here, the series alternates signs and only uses odd powers of x. The function can take scalar or array-like inputs and will return the approximation for each value. The number of terms used in the approximation can be adjusted with the `N` parameter."
   ]
  },
  {
   "cell_type": "code",
   "execution_count": 1,
   "metadata": {},
   "outputs": [
    {
     "name": "stdout",
     "output_type": "stream",
     "text": [
      "0.0\n",
      "[ 0.00000000e+00  1.00000000e+00 -3.45866918e-16]\n"
     ]
    }
   ],
   "source": [
    "import numpy as np\n",
    "from acsefunctions.taylor import sin\n",
    "# Approximation for sin(0)\n",
    "print(sin(0))\n",
    "\n",
    "# Approximation for sin values at [0, pi/2, pi]\n",
    "print(sin(np.array([0, np.pi/2, np.pi])))"
   ]
  },
  {
   "cell_type": "markdown",
   "metadata": {},
   "source": [
    "Note that the value for sin(pi) is very close to 0. The approximation can be made more accurate by increasing the number of terms:"
   ]
  },
  {
   "cell_type": "code",
   "execution_count": 2,
   "metadata": {},
   "outputs": [
    {
     "name": "stdout",
     "output_type": "stream",
     "text": [
      "The value should be : 0.8660254037844386 \n",
      "\n",
      "The first 5 terms gives : 0.866025445099781\n",
      "The first 25 terms gives : 0.8660254037844384\n"
     ]
    }
   ],
   "source": [
    "# The value should give sqrt(3)/2\n",
    "print(\"The value should be :\", np.sqrt(3)/2,\"\\n\")\n",
    "print(\"The first 5 terms gives :\", sin(np.pi/3, 5))\n",
    "print(\"The first 25 terms gives :\", sin(np.pi/3, 25))\n",
    "\n"
   ]
  },
  {
   "cell_type": "markdown",
   "metadata": {},
   "source": [
    "### Function: `Cos`\n",
    "\n",
    "The `Cos` function approximates the sine function `Cos(x)` using a Taylor series expansion around the point 0. \n",
    "\n",
    "Here, the series alternates signs and only uses even powers of x. The function can take scalar or array-like inputs and will return the approximation for each value. The number of terms used in the approximation can be adjusted with the `N` parameter."
   ]
  },
  {
   "cell_type": "code",
   "execution_count": 3,
   "metadata": {},
   "outputs": [
    {
     "name": "stdout",
     "output_type": "stream",
     "text": [
      "1.0\n",
      "[ 1.00000000e+00  4.26446037e-17 -1.00000000e+00]\n"
     ]
    }
   ],
   "source": [
    "import numpy as np\n",
    "from acsefunctions.taylor import cos\n",
    "\n",
    "# Approximation for cos(0)\n",
    "print(cos(0))\n",
    "\n",
    "# Approximation for cos values at [0, pi/2, pi]\n",
    "print(cos(np.array([0, np.pi/2, np.pi])))\n"
   ]
  },
  {
   "cell_type": "markdown",
   "metadata": {},
   "source": [
    "### Function: `tan`\n",
    "\n",
    "The `tan` function approximates the tangent function $\\tan(x)$ by utilizing the Taylor series expansions of $\\sin(x)$ and $\\cos(x)$ functions. The formula for tangent in terms of sine and cosine is:\n",
    "\n",
    "$$ \\tan(x) = \\frac{\\sin(x)}{\\cos(x)} $$\n",
    "\n",
    "Given the Taylor series expansions for both sine and cosine, the function divides the approximation of sine by the approximation of cosine to achieve the tangent value. It is important to be cautious when using this function for values where $\\cos(x)$ is close to zero, as this can lead to division by nearly zero and significant inaccuracies."
   ]
  },
  {
   "cell_type": "code",
   "execution_count": 4,
   "metadata": {},
   "outputs": [
    {
     "name": "stdout",
     "output_type": "stream",
     "text": [
      "0.0\n",
      "[0. 1.]\n"
     ]
    }
   ],
   "source": [
    "import numpy as np\n",
    "from acsefunctions.taylor import tan\n",
    "# Approximation for tan(0)\n",
    "print(tan(0))\n",
    "\n",
    "# Approximation for tan values at [0, pi/4]\n",
    "print(tan(np.array([0, np.pi/4])))"
   ]
  },
  {
   "cell_type": "markdown",
   "metadata": {},
   "source": [
    "## Bessel.py"
   ]
  },
  {
   "cell_type": "markdown",
   "metadata": {},
   "source": [
    "### Function: `factorial`\n",
    "\n",
    "The `factorial` function computes the factorial of a given integer $n$. The factorial of a non-negative integer $n$, denoted by $n!$, is the product of all positive integers less than or equal to $n$. The factorial function grows very fast and can become very large for relatively small values of $n$. The formula for factorial is:\n",
    "\n",
    "$$ n! = n \\times (n - 1) \\times (n - 2) \\times \\dots \\times 2 \\times 1 $$\n",
    "\n",
    "This function is designed to handle both individual numbers as well as arrays of numbers, providing the factorial for each value in the array.\n",
    "\n"
   ]
  },
  {
   "cell_type": "code",
   "execution_count": 6,
   "metadata": {},
   "outputs": [
    {
     "name": "stdout",
     "output_type": "stream",
     "text": [
      "120\n",
      "[  6  24 120]\n"
     ]
    }
   ],
   "source": [
    "import numpy as np\n",
    "from acsefunctions.bessel import factorial\n",
    "\n",
    "# Factorial of 5\n",
    "print(factorial(5))\n",
    "\n",
    "# Factorial of values in an array [3, 4, 5]\n",
    "print(factorial(np.array([3, 4, 5])))\n"
   ]
  },
  {
   "cell_type": "markdown",
   "metadata": {},
   "source": []
  },
  {
   "cell_type": "markdown",
   "metadata": {},
   "source": [
    "### Function: `gamma_function_lanczos`\n",
    "\n",
    "The `gamma_function_lanczos` computes the gamma function $\\Gamma(z)$ using the Lanczos approximation. The gamma function is a generalization of the factorial function to complex numbers, and it's defined for all complex numbers except for non-positive integers. The formula for the gamma function is:\n",
    "\n",
    "$$ \\Gamma(n) = (n - 1)! $$\n",
    "\n",
    "for positive integers $n$.\n",
    "\n",
    "The Lanczos approximation provides an efficient and accurate method for calculating the gamma function. The version used here employs the coefficients with $g = 5$. It's crucial to note that the gamma function returns $-\\infty$ for negative real values that are whole numbers."
   ]
  },
  {
   "cell_type": "code",
   "execution_count": 7,
   "metadata": {},
   "outputs": [
    {
     "name": "stdout",
     "output_type": "stream",
     "text": [
      "[11.6317284]\n",
      "[  6.  24. 120.]\n",
      "[0.30069462-0.42496788j]\n"
     ]
    }
   ],
   "source": [
    "import numpy as np\n",
    "from acsefunctions.bessel import gamma_function_lanczos\n",
    "\n",
    "# Gamma function value for 4.5\n",
    "print(gamma_function_lanczos(4.5))\n",
    "\n",
    "# Gamma function values for an array [4, 5, 6]\n",
    "print(gamma_function_lanczos(np.array([4, 5, 6])))\n",
    "\n",
    "# Gamma function value for a complex number 0.5 + 1j\n",
    "print(gamma_function_lanczos(0.5 + 1j))"
   ]
  },
  {
   "cell_type": "markdown",
   "metadata": {},
   "source": [
    "### Function: `bessel_function`\n",
    "\n",
    "The `bessel_function` computes the Bessel function of the first kind, $J_\\alpha(x)$, from its series representation. These functions solve Bessel's differential equation and are useful in problems with cylindrical symmetry.\n",
    "\n",
    "The Bessel function of order $\\alpha$ is given by:\n",
    "$$ J_\\alpha(x) = \\frac{1}{\\pi} \\int_0^\\pi \\cos(\\alpha t - x \\sin(t)) \\, dt $$\n",
    "\n",
    "For computation, a summation derived from the above integral is used. The `terms` parameter specifies the number of terms in this series. When working with complex numbers, results are in `np.complex128` format; otherwise, they're floats."
   ]
  },
  {
   "cell_type": "code",
   "execution_count": 9,
   "metadata": {},
   "outputs": [
    {
     "name": "stdout",
     "output_type": "stream",
     "text": [
      "[0.57672481]\n",
      "[0.93846981]\n"
     ]
    },
    {
     "name": "stderr",
     "output_type": "stream",
     "text": [
      "/Users/tg1523/Library/CloudStorage/OneDrive-Personal/Documents/acse/mpm-assessment-2-acse-tg1523/acsefunctions/bessel.py:149: RuntimeWarning: overflow encountered in multiply\n",
      "  / (np.complex128(factorial(m)) * gamma_function_lanczos(m + alpha + 1))\n"
     ]
    }
   ],
   "source": [
    "import numpy as np\n",
    "from acsefunctions.bessel import bessel_function\n",
    "# Bessel function of first kind for order 1 and value 2\n",
    "print(bessel_function(1, 2))\n",
    "\n",
    "# Bessel function of first kind for order 0 and value 0.5\n",
    "print(bessel_function(0, 0.5))"
   ]
  }
 ],
 "metadata": {
  "kernelspec": {
   "display_name": "ese-msc",
   "language": "python",
   "name": "python3"
  },
  "language_info": {
   "codemirror_mode": {
    "name": "ipython",
    "version": 3
   },
   "file_extension": ".py",
   "mimetype": "text/x-python",
   "name": "python",
   "nbconvert_exporter": "python",
   "pygments_lexer": "ipython3",
   "version": "3.11.5"
  }
 },
 "nbformat": 4,
 "nbformat_minor": 2
}
